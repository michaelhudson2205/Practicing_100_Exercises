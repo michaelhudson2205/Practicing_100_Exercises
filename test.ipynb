{
 "cells": [
  {
   "cell_type": "code",
   "execution_count": null,
   "id": "1f240398",
   "metadata": {},
   "outputs": [],
   "source": [
    "# this is an ordinary comment\n",
    "# ? this is a better comment\n",
    "# ! this comment is also better"
   ]
  },
  {
   "cell_type": "code",
   "execution_count": null,
   "id": "5461c75b",
   "metadata": {},
   "outputs": [],
   "source": []
  }
 ],
 "metadata": {
  "language_info": {
   "name": "python"
  }
 },
 "nbformat": 4,
 "nbformat_minor": 5
}
